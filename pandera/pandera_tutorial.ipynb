{
 "cells": [
  {
   "cell_type": "raw",
   "metadata": {},
   "source": [
    "---\n",
    "format:\n",
    "  html:\n",
    "    embed-resources: true\n",
    "---\n"
   ]
  },
  {
   "cell_type": "markdown",
   "metadata": {},
   "source": [
    "# Intro"
   ]
  },
  {
   "cell_type": "markdown",
   "metadata": {},
   "source": [
    "[Pandera](https://pandera.readthedocs.io/en/stable/index.html) is a package which provides schemas for data validation and type hinting. It provides 3 main benefits:\n",
    "\n",
    "1) Explicitly define the schema of your data\n",
    "2) Use the schema to type hint your code\n",
    "3) Validate  your data against the schema"
   ]
  },
  {
   "cell_type": "markdown",
   "metadata": {},
   "source": [
    "# Define a schema\n",
    "\n",
    "While you are working with a dataset, you will probably encounter the question \"what are the columns of this dataset?\" several times.\n",
    "\n",
    "This is specially the case when you are no longer at the initial stage of your project, or you are working with a dataset that has been created by someone else.\n",
    "\n",
    "Pandera provides a schema object which allows you to explicitly define the schema of your data, creating a python object that can be used to contain all the information about the columns of the dataset.\n",
    "\n",
    "Let's start with a dataset that contains the following columns:"
   ]
  },
  {
   "cell_type": "code",
   "execution_count": 12,
   "metadata": {},
   "outputs": [
    {
     "name": "stdout",
     "output_type": "stream",
     "text": [
      "Exception reporting mode: Minimal\n"
     ]
    }
   ],
   "source": [
    "%xmode minimal"
   ]
  },
  {
   "cell_type": "code",
   "execution_count": 4,
   "metadata": {},
   "outputs": [
    {
     "data": {
      "text/html": [
       "<div>\n",
       "<style scoped>\n",
       "    .dataframe tbody tr th:only-of-type {\n",
       "        vertical-align: middle;\n",
       "    }\n",
       "\n",
       "    .dataframe tbody tr th {\n",
       "        vertical-align: top;\n",
       "    }\n",
       "\n",
       "    .dataframe thead th {\n",
       "        text-align: right;\n",
       "    }\n",
       "</style>\n",
       "<table border=\"1\" class=\"dataframe\">\n",
       "  <thead>\n",
       "    <tr style=\"text-align: right;\">\n",
       "      <th></th>\n",
       "      <th>name</th>\n",
       "      <th>score</th>\n",
       "    </tr>\n",
       "    <tr>\n",
       "      <th>user_id</th>\n",
       "      <th></th>\n",
       "      <th></th>\n",
       "    </tr>\n",
       "  </thead>\n",
       "  <tbody>\n",
       "    <tr>\n",
       "      <th>a</th>\n",
       "      <td>Josh</td>\n",
       "      <td>4</td>\n",
       "    </tr>\n",
       "    <tr>\n",
       "      <th>b</th>\n",
       "      <td>Bob</td>\n",
       "      <td>&lt;NA&gt;</td>\n",
       "    </tr>\n",
       "    <tr>\n",
       "      <th>c</th>\n",
       "      <td>Mary</td>\n",
       "      <td>6</td>\n",
       "    </tr>\n",
       "    <tr>\n",
       "      <th>d</th>\n",
       "      <td>John</td>\n",
       "      <td>7</td>\n",
       "    </tr>\n",
       "    <tr>\n",
       "      <th>e</th>\n",
       "      <td>Jane</td>\n",
       "      <td>8</td>\n",
       "    </tr>\n",
       "  </tbody>\n",
       "</table>\n",
       "</div>"
      ],
      "text/plain": [
       "         name  score\n",
       "user_id             \n",
       "a        Josh      4\n",
       "b         Bob   <NA>\n",
       "c        Mary      6\n",
       "d        John      7\n",
       "e        Jane      8"
      ]
     },
     "execution_count": 4,
     "metadata": {},
     "output_type": "execute_result"
    }
   ],
   "source": [
    "import pandera as pa\n",
    "from pandera.typing import DataFrame, Series, Index\n",
    "import pandas as pd\n",
    "\n",
    "data = pd.DataFrame(\n",
    "    {\n",
    "        \"name\": [\n",
    "            \"Josh\",\n",
    "            \"Bob\",\n",
    "            \"Mary\",\n",
    "            \"John\",\n",
    "            \"Jane\",\n",
    "        ],\n",
    "        \"score\": [4, pd.NA, 6, 7, 8],\n",
    "    },\n",
    "    index=pd.Series([\"a\", \"b\", \"c\", \"d\", \"e\"], name=\"user_id\"),\n",
    ").astype({\"score\": pd.Int64Dtype()})\n",
    "data\n"
   ]
  },
  {
   "cell_type": "markdown",
   "metadata": {},
   "source": [
    "A schema for this dataframe can be defined as follows:"
   ]
  },
  {
   "cell_type": "code",
   "execution_count": 5,
   "metadata": {},
   "outputs": [],
   "source": [
    "class MySchema(pa.SchemaModel):\n",
    "    name: Series[str] = pa.Field(nullable=False)\n",
    "    score: Series[pd.Int64Dtype] = pa.Field(ge=4, lt=9, nullable=True)\n",
    "    user_id: Index[str] = pa.Field(check_name=True)"
   ]
  },
  {
   "cell_type": "markdown",
   "metadata": {},
   "source": [
    "## Schema Rules"
   ]
  },
  {
   "cell_type": "markdown",
   "metadata": {},
   "source": [
    "The schema defines the data types and constraints for each column in the DataFrame. \n",
    "\n",
    "`MySchema` contains the following information:\n",
    "\n",
    "- `name` is a `str` column that is nullable\n",
    "- `score` is a `float` column that cannot receive null values, is greater than or equal (`ge`) to 4, and is less than (`lt`) 9.\n",
    "- `user_id` is an `str` index \n",
    "\n",
    "Most of this information is optional, so you can build the schema one step at a time.\n",
    "\n",
    "A minimal form for the schema would be:\n"
   ]
  },
  {
   "cell_type": "code",
   "execution_count": 6,
   "metadata": {},
   "outputs": [],
   "source": [
    "class MyMinimalSchema(pa.SchemaModel):\n",
    "    name: Series\n",
    "    score: Series\n",
    "    user_id: Index"
   ]
  },
  {
   "cell_type": "markdown",
   "metadata": {},
   "source": [
    "## Magic Strings"
   ]
  },
  {
   "cell_type": "markdown",
   "metadata": {},
   "source": [
    "Not only `MySchema` works like documentation for your data, with the expected columns and its requirements, it also allows you to use this information in your code."
   ]
  },
  {
   "cell_type": "code",
   "execution_count": 7,
   "metadata": {},
   "outputs": [
    {
     "data": {
      "text/plain": [
       "user_id\n",
       "a    Josh\n",
       "b     Bob\n",
       "c    Mary\n",
       "d    John\n",
       "e    Jane\n",
       "Name: name, dtype: object"
      ]
     },
     "execution_count": 7,
     "metadata": {},
     "output_type": "execute_result"
    }
   ],
   "source": [
    "data[MySchema.name]"
   ]
  },
  {
   "cell_type": "markdown",
   "metadata": {},
   "source": [
    "Using this inside your code has two main benefits: first, it makes your life easier through autocomplete by giving you the columns of the dataframe.\n",
    "\n",
    "Second, it avoids the usage of [magic strings](https://softwareengineering.stackexchange.com/questions/365339/what-is-wrong-with-magic-strings), so you no longer use a string to refer to a column, but a variable that is defined in the schema. \n",
    "\n",
    "Here is one of the examples of a bad case of magic string:"
   ]
  },
  {
   "cell_type": "markdown",
   "metadata": {},
   "source": [
    "Somewhere, you use the `name` column of your dataframe as a string\n",
    "\n",
    "`data['name']`\n",
    "\n",
    "Then, you use another function with also uses the `name` string.\n",
    "\n",
    "`external_function(my_dict['name'])`\n",
    "\n",
    "Now, if you want to change the column name, or the key of the dictionary, you are forced to look into **every** instance of the string `name` in your code to make sure you are not breaking anything, because this string means multiple things in different places.\n",
    "\n",
    "If, instead, you were not using magic strings, it would be as easy as changing a property name using your IDE, because `MySchema.name` always means the same thing everywhere."
   ]
  },
  {
   "cell_type": "markdown",
   "metadata": {},
   "source": [
    "# Use the schema to type hint your code"
   ]
  },
  {
   "cell_type": "markdown",
   "metadata": {},
   "source": [
    "Not knowing the contents of your dataframe while reading the code was already bad, but not knowing the output of your functions is just as bad.\n",
    "\n",
    "Pandera to the rescue! You can also use the schema to type hint your data, so you can know the inputs and outputs of your functions."
   ]
  },
  {
   "cell_type": "code",
   "execution_count": 8,
   "metadata": {},
   "outputs": [],
   "source": [
    "def get_score_column(df: DataFrame[MySchema]) -> Series[pd.Int64Dtype]:\n",
    "    return df[MySchema.score]\n"
   ]
  },
  {
   "cell_type": "markdown",
   "metadata": {},
   "source": [
    "# Validate  your data against the schema"
   ]
  },
  {
   "cell_type": "markdown",
   "metadata": {},
   "source": [
    "With all this information we have documented about our data, we can also use it to validate our data. \n",
    "\n",
    "The first way we can do this is using the `check_types` annotation. It will check your inputs and outputs. This code is expected to pass:"
   ]
  },
  {
   "cell_type": "code",
   "execution_count": 13,
   "metadata": {},
   "outputs": [
    {
     "data": {
      "text/html": [
       "<div>\n",
       "<style scoped>\n",
       "    .dataframe tbody tr th:only-of-type {\n",
       "        vertical-align: middle;\n",
       "    }\n",
       "\n",
       "    .dataframe tbody tr th {\n",
       "        vertical-align: top;\n",
       "    }\n",
       "\n",
       "    .dataframe thead th {\n",
       "        text-align: right;\n",
       "    }\n",
       "</style>\n",
       "<table border=\"1\" class=\"dataframe\">\n",
       "  <thead>\n",
       "    <tr style=\"text-align: right;\">\n",
       "      <th></th>\n",
       "      <th>name</th>\n",
       "      <th>score</th>\n",
       "    </tr>\n",
       "    <tr>\n",
       "      <th>user_id</th>\n",
       "      <th></th>\n",
       "      <th></th>\n",
       "    </tr>\n",
       "  </thead>\n",
       "  <tbody>\n",
       "    <tr>\n",
       "      <th>a</th>\n",
       "      <td>Josh</td>\n",
       "      <td>4</td>\n",
       "    </tr>\n",
       "    <tr>\n",
       "      <th>b</th>\n",
       "      <td>Bob</td>\n",
       "      <td>5</td>\n",
       "    </tr>\n",
       "    <tr>\n",
       "      <th>c</th>\n",
       "      <td>Mary</td>\n",
       "      <td>6</td>\n",
       "    </tr>\n",
       "    <tr>\n",
       "      <th>d</th>\n",
       "      <td>John</td>\n",
       "      <td>7</td>\n",
       "    </tr>\n",
       "    <tr>\n",
       "      <th>e</th>\n",
       "      <td>Jane</td>\n",
       "      <td>8</td>\n",
       "    </tr>\n",
       "  </tbody>\n",
       "</table>\n",
       "</div>"
      ],
      "text/plain": [
       "         name  score\n",
       "user_id             \n",
       "a        Josh      4\n",
       "b         Bob      5\n",
       "c        Mary      6\n",
       "d        John      7\n",
       "e        Jane      8"
      ]
     },
     "execution_count": 13,
     "metadata": {},
     "output_type": "execute_result"
    }
   ],
   "source": [
    "@pa.check_types\n",
    "def fill_score_column(df: DataFrame[MySchema]) -> DataFrame[MySchema]:\n",
    "    return df.fillna({MySchema.score: 5})\n",
    "\n",
    "\n",
    "fill_score_column(data)\n"
   ]
  },
  {
   "cell_type": "markdown",
   "metadata": {},
   "source": [
    "But this one is not, because 0 is not a valid score according to the schema"
   ]
  },
  {
   "cell_type": "code",
   "execution_count": 15,
   "metadata": {},
   "outputs": [
    {
     "ename": "SchemaError",
     "evalue": "error in check_types decorator of function 'fill_score_column': <Schema Column(name=score, type=DataType(Int64))> failed element-wise validator 0:\n<Check greater_than_or_equal_to: greater_than_or_equal_to(4)>\nfailure cases:\n  index  failure_case\n0     b             0",
     "output_type": "error",
     "traceback": [
      "\u001b[0;31mSchemaError\u001b[0m\u001b[0;31m:\u001b[0m <Schema Column(name=score, type=DataType(Int64))> failed element-wise validator 0:\n<Check greater_than_or_equal_to: greater_than_or_equal_to(4)>\nfailure cases:\n  index  failure_case\n0     b             0\n",
      "\nThe above exception was the direct cause of the following exception:\n",
      "\u001b[0;31mSchemaError\u001b[0m\u001b[0;31m:\u001b[0m error in check_types decorator of function 'fill_score_column': <Schema Column(name=score, type=DataType(Int64))> failed element-wise validator 0:\n<Check greater_than_or_equal_to: greater_than_or_equal_to(4)>\nfailure cases:\n  index  failure_case\n0     b             0\n"
     ]
    }
   ],
   "source": [
    "@pa.check_types\n",
    "def fill_score_column(df: DataFrame[MySchema]) -> DataFrame[MySchema]:\n",
    "    return df.fillna({MySchema.score: 0})\n",
    "\n",
    "\n",
    "fill_score_column(data)\n"
   ]
  },
  {
   "cell_type": "markdown",
   "metadata": {},
   "source": [
    "# More usage"
   ]
  },
  {
   "cell_type": "markdown",
   "metadata": {},
   "source": [
    "## Checks and coercions"
   ]
  },
  {
   "cell_type": "markdown",
   "metadata": {},
   "source": [
    "By default, check_types will check that:\n",
    "\n",
    "- the data has all the required columns\n",
    "- all columns match the types\n",
    "- all values are non null\n",
    "  \n",
    "It will **not**:\n",
    "- check the index name\n",
    "- coerce the data types\n",
    "- check only required columns are present\n",
    "\n",
    "We can customize most of the configurations:\n",
    "\n",
    "1) its not possible to ignore a column, but you can subclass the schema (see below)\n",
    "2) removing the type definition will remove the type check \n",
    "3) `pa.Field(nullable=True)` will allow null values\n",
    "4) `pa.Field(check_name=True)` will check the index name\n",
    "5) `pa.Field(coerce=True)` will coerce the data types, `Config.coerce` will coerce the whole data.\n",
    "6) `strict=True` will check that only required columns are present\n"
   ]
  },
  {
   "cell_type": "code",
   "execution_count": 54,
   "metadata": {},
   "outputs": [],
   "source": [
    "class ExtraSchema(pa.SchemaModel):\n",
    "    name: Series = pa.Field(nullable=False) # no type check\n",
    "    score: Series[pd.Int64Dtype] = pa.Field(ge=4, lt=9, nullable=True) # null values allowed\n",
    "    user_id: Index[str] = pa.Field(check_name=True) # index name check\n",
    "    date: Series[pd.Timestamp] = pa.Field(nullable=True) # extra column\n",
    "\n",
    "    class Config:\n",
    "        coerce = True # coerce all values to the specified type\n",
    "        strict = True # allow extra columns"
   ]
  },
  {
   "cell_type": "markdown",
   "metadata": {},
   "source": [
    "## Inheritance"
   ]
  },
  {
   "cell_type": "markdown",
   "metadata": {},
   "source": [
    "Just like ordinary classes, you can inherit schemas. It can be useful if you are building one dataset on top of another"
   ]
  },
  {
   "cell_type": "code",
   "execution_count": 21,
   "metadata": {},
   "outputs": [],
   "source": [
    "class BaseUserSchema(pa.SchemaModel):\n",
    "    name: Series[str]\n",
    "    user: Index[str] = pa.Field(check_name=True)\n",
    "\n",
    "class UserWithScoreSchema(BaseUserSchema):\n",
    "    score: Series[int]\n",
    "\n"
   ]
  },
  {
   "cell_type": "markdown",
   "metadata": {},
   "source": [
    "`UserWithScoreSchema` will therefore also have all properties defined in `BaseUserSchema`\n"
   ]
  },
  {
   "cell_type": "markdown",
   "metadata": {},
   "source": [
    "## Programatic validation"
   ]
  },
  {
   "cell_type": "markdown",
   "metadata": {},
   "source": [
    "You can turn schemas into objects to access the rules at running time, and validate the data at will."
   ]
  },
  {
   "cell_type": "code",
   "execution_count": 67,
   "metadata": {},
   "outputs": [
    {
     "data": {
      "text/plain": [
       "<Schema DataFrameSchema(columns={'name': <Schema Column(name=name, type=None)>, 'score': <Schema Column(name=score, type=DataType(Int64))>}, checks=[], index=<Schema Index(name=user_id, type=DataType(str))>, coerce=True, dtype=None, strict=False, name=MySchema, ordered=False, unique_column_names=False)>"
      ]
     },
     "execution_count": 67,
     "metadata": {},
     "output_type": "execute_result"
    }
   ],
   "source": [
    "schema_object = MySchema.to_schema()\n",
    "schema_object"
   ]
  },
  {
   "cell_type": "code",
   "execution_count": 68,
   "metadata": {},
   "outputs": [
    {
     "data": {
      "text/plain": [
       "{'name': <Schema Column(name=name, type=None)>,\n",
       " 'score': <Schema Column(name=score, type=DataType(Int64))>}"
      ]
     },
     "execution_count": 68,
     "metadata": {},
     "output_type": "execute_result"
    }
   ],
   "source": [
    "schema_object.columns"
   ]
  },
  {
   "cell_type": "code",
   "execution_count": 69,
   "metadata": {},
   "outputs": [
    {
     "data": {
      "text/plain": [
       "['name', 'score']"
      ]
     },
     "execution_count": 69,
     "metadata": {},
     "output_type": "execute_result"
    }
   ],
   "source": [
    "list(schema_object.columns.keys())"
   ]
  },
  {
   "cell_type": "code",
   "execution_count": 70,
   "metadata": {},
   "outputs": [
    {
     "data": {
      "text/html": [
       "<div>\n",
       "<style scoped>\n",
       "    .dataframe tbody tr th:only-of-type {\n",
       "        vertical-align: middle;\n",
       "    }\n",
       "\n",
       "    .dataframe tbody tr th {\n",
       "        vertical-align: top;\n",
       "    }\n",
       "\n",
       "    .dataframe thead th {\n",
       "        text-align: right;\n",
       "    }\n",
       "</style>\n",
       "<table border=\"1\" class=\"dataframe\">\n",
       "  <thead>\n",
       "    <tr style=\"text-align: right;\">\n",
       "      <th></th>\n",
       "      <th>name</th>\n",
       "      <th>score</th>\n",
       "    </tr>\n",
       "    <tr>\n",
       "      <th>user_id</th>\n",
       "      <th></th>\n",
       "      <th></th>\n",
       "    </tr>\n",
       "  </thead>\n",
       "  <tbody>\n",
       "    <tr>\n",
       "      <th>a</th>\n",
       "      <td>Josh</td>\n",
       "      <td>4</td>\n",
       "    </tr>\n",
       "    <tr>\n",
       "      <th>b</th>\n",
       "      <td>Bob</td>\n",
       "      <td>&lt;NA&gt;</td>\n",
       "    </tr>\n",
       "    <tr>\n",
       "      <th>c</th>\n",
       "      <td>Mary</td>\n",
       "      <td>6</td>\n",
       "    </tr>\n",
       "    <tr>\n",
       "      <th>d</th>\n",
       "      <td>John</td>\n",
       "      <td>7</td>\n",
       "    </tr>\n",
       "    <tr>\n",
       "      <th>e</th>\n",
       "      <td>Jane</td>\n",
       "      <td>8</td>\n",
       "    </tr>\n",
       "  </tbody>\n",
       "</table>\n",
       "</div>"
      ],
      "text/plain": [
       "         name  score\n",
       "user_id             \n",
       "a        Josh      4\n",
       "b         Bob   <NA>\n",
       "c        Mary      6\n",
       "d        John      7\n",
       "e        Jane      8"
      ]
     },
     "execution_count": 70,
     "metadata": {},
     "output_type": "execute_result"
    }
   ],
   "source": [
    "schema_object.validate(data)"
   ]
  }
 ],
 "metadata": {
  "kernelspec": {
   "display_name": "Python 3.10.5 ('gs_base')",
   "language": "python",
   "name": "python3"
  },
  "language_info": {
   "codemirror_mode": {
    "name": "ipython",
    "version": 3
   },
   "file_extension": ".py",
   "mimetype": "text/x-python",
   "name": "python",
   "nbconvert_exporter": "python",
   "pygments_lexer": "ipython3",
   "version": "3.10.5"
  },
  "orig_nbformat": 4,
  "vscode": {
   "interpreter": {
    "hash": "ae53b5eb40a4ee98091a6c161cb132660994365d80c38acdf434d57da6f1721e"
   }
  }
 },
 "nbformat": 4,
 "nbformat_minor": 2
}
